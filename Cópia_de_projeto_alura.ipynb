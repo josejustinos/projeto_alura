{
  "nbformat": 4,
  "nbformat_minor": 0,
  "metadata": {
    "colab": {
      "provenance": [],
      "toc_visible": true,
      "authorship_tag": "ABX9TyMSns5LIOUc89neZNDRYY6T",
      "include_colab_link": true
    },
    "kernelspec": {
      "name": "python3",
      "display_name": "Python 3"
    },
    "language_info": {
      "name": "python"
    }
  },
  "cells": [
    {
      "cell_type": "markdown",
      "metadata": {
        "id": "view-in-github",
        "colab_type": "text"
      },
      "source": [
        "<a href=\"https://colab.research.google.com/github/josejustinos/projeto_alura/blob/main/C%C3%B3pia_de_projeto_alura.ipynb\" target=\"_parent\"><img src=\"https://colab.research.google.com/assets/colab-badge.svg\" alt=\"Open In Colab\"/></a>"
      ]
    },
    {
      "cell_type": "code",
      "source": [
        "!pip3 install GenerateText"
      ],
      "metadata": {
        "id": "NSDD19e5924s"
      },
      "execution_count": null,
      "outputs": []
    },
    {
      "cell_type": "code",
      "execution_count": null,
      "metadata": {
        "id": "x9TVZipRjt3F",
        "colab": {
          "base_uri": "https://localhost:8080/",
          "height": 422
        },
        "outputId": "961a22ff-2a2a-418a-a020-aae7e37531db"
      },
      "outputs": [
        {
          "output_type": "error",
          "ename": "ImportError",
          "evalue": "cannot import name 'GenerateText' from 'google.generativeai' (/usr/local/lib/python3.10/dist-packages/google/generativeai/__init__.py)",
          "traceback": [
            "\u001b[0;31m---------------------------------------------------------------------------\u001b[0m",
            "\u001b[0;31mImportError\u001b[0m                               Traceback (most recent call last)",
            "\u001b[0;32m<ipython-input-59-618eb9ff531a>\u001b[0m in \u001b[0;36m<cell line: 4>\u001b[0;34m()\u001b[0m\n\u001b[1;32m      2\u001b[0m \u001b[0;32mfrom\u001b[0m \u001b[0mtkinter\u001b[0m \u001b[0;32mimport\u001b[0m \u001b[0mfiledialog\u001b[0m\u001b[0;34m\u001b[0m\u001b[0;34m\u001b[0m\u001b[0m\n\u001b[1;32m      3\u001b[0m \u001b[0;32mfrom\u001b[0m \u001b[0mgoogle\u001b[0m\u001b[0;34m.\u001b[0m\u001b[0mcolab\u001b[0m \u001b[0;32mimport\u001b[0m \u001b[0mfiles\u001b[0m\u001b[0;34m\u001b[0m\u001b[0;34m\u001b[0m\u001b[0m\n\u001b[0;32m----> 4\u001b[0;31m \u001b[0;32mfrom\u001b[0m \u001b[0mgoogle\u001b[0m\u001b[0;34m.\u001b[0m\u001b[0mgenerativeai\u001b[0m \u001b[0;32mimport\u001b[0m \u001b[0mGenerateText\u001b[0m\u001b[0;34m,\u001b[0m \u001b[0mGenerateImage\u001b[0m\u001b[0;34m\u001b[0m\u001b[0;34m\u001b[0m\u001b[0m\n\u001b[0m\u001b[1;32m      5\u001b[0m \u001b[0;34m\u001b[0m\u001b[0m\n\u001b[1;32m      6\u001b[0m \u001b[0;32mdef\u001b[0m \u001b[0mselect_file\u001b[0m\u001b[0;34m(\u001b[0m\u001b[0;34m)\u001b[0m\u001b[0;34m:\u001b[0m\u001b[0;34m\u001b[0m\u001b[0;34m\u001b[0m\u001b[0m\n",
            "\u001b[0;31mImportError\u001b[0m: cannot import name 'GenerateText' from 'google.generativeai' (/usr/local/lib/python3.10/dist-packages/google/generativeai/__init__.py)",
            "",
            "\u001b[0;31m---------------------------------------------------------------------------\u001b[0;32m\nNOTE: If your import is failing due to a missing package, you can\nmanually install dependencies using either !pip or !apt.\n\nTo view examples of installing some common dependencies, click the\n\"Open Examples\" button below.\n\u001b[0;31m---------------------------------------------------------------------------\u001b[0m\n"
          ],
          "errorDetails": {
            "actions": [
              {
                "action": "open_url",
                "actionText": "Open Examples",
                "url": "/notebooks/snippets/importing_libraries.ipynb"
              }
            ]
          }
        }
      ],
      "source": [
        "import tkinter as tk\n",
        "from tkinter import filedialog\n",
        "from google.colab import files\n",
        "from google.generativeai import GenerateText, GenerateImage\n",
        "\n",
        "def select_file():\n",
        "    global filename\n",
        "    filename = filedialog.askopenfilename(filetypes=[(\"PDF Files\", \"*.pdf\")])\n",
        "\n",
        "def analyze_pdf():\n",
        "    if filename:\n",
        "        # Read PDF content using appropriate library (e.g., PyPDF2)\n",
        "        # Extract text from PDF content\n",
        "\n",
        "        # Replace 'pdf_text' with the extracted text from the PDF\n",
        "        pdf_text = \"Replace with extracted PDF text\"\n",
        "\n",
        "        # Utilize Google Gemini to search for keywords\n",
        "        response = GenerateText.generate(\n",
        "            text_inputs=[pdf_text],\n",
        "            queries=[\"inscrição para concurso público abertas\", \"vagas para concurso público abertas\"],\n",
        "        )\n",
        "\n",
        "        # Process Google Gemini response to extract relevant information\n",
        "        if \"concurso público\" in response.text:\n",
        "            # Extract and display information about each vacancy\n",
        "            # (number of vacancies, education level, application dates, fee, application website)\n",
        "            print(\"Concursos Públicos Encontrados:\")\n",
        "            for vacancy in extracted_vacancy_data:\n",
        "                print(f\"Número de Vagas: {vacancy['vagas']}\")\n",
        "                print(f\"Escolaridade: {vacancy['escolaridade']}\")\n",
        "                print(f\"Inscrição: {vacancy['inscricao']}\")\n",
        "                print(f\"Taxa de Inscrição: {vacancy['taxa']}\")\n",
        "                print(f\"Site de Inscrição: {vacancy['site']}\")\n",
        "                print(\"-----------------------\")\n",
        "\n",
        "            # Display options: End program or analyze another file\n",
        "            choice = tk.messagebox.askquestion(\n",
        "                \"Análise Concluída\", \"Deseja analisar outro arquivo PDF?\",\n",
        "                icon=\"question\",\n",
        "            )\n",
        "            if choice == \"yes\":\n",
        "                reset_interface()\n",
        "            else:\n",
        "                window.destroy()\n",
        "\n",
        "        else:\n",
        "            # No public concursos found\n",
        "            tk.messagebox.showinfo(\"Análise Concluída\", \"Nenhum concurso público encontrado no PDF.\")\n",
        "            choice = tk.messagebox.askquestion(\n",
        "                \"Análise Concluída\", \"Deseja analisar outro arquivo PDF?\",\n",
        "                icon=\"question\",\n",
        "            )\n",
        "            if choice == \"yes\":\n",
        "                reset_interface()\n",
        "            else:\n",
        "                window.destroy()\n",
        "\n",
        "    else:\n",
        "        tk.messagebox.showerror(\"Erro\", \"Selecione um arquivo PDF.\")\n",
        "\n",
        "def reset_interface():\n",
        "    global filename\n",
        "    filename = None\n",
        "    file_entry.delete(0, tk.END)\n",
        "\n",
        "# Create main window\n",
        "window = tk.Tk()\n",
        "window.title(\"Análise de Concursos Públicos - Google Gemini\")\n",
        "\n",
        "# Label for file selection\n",
        "file_label = tk.Label(window, text=\"Selecionar Arquivo PDF:\")\n",
        "file_label.pack()\n",
        "\n",
        "# File selection entry and button\n",
        "file_entry = tk.Entry(window)\n",
        "file_entry.pack()\n",
        "select_button = tk.Button(window, text=\"Selecionar\", command=select_file)\n",
        "select_button.pack()\n",
        "\n",
        "# Analyze button\n",
        "analyze_button = tk.Button(window, text=\"Analisar PDF\", command=analyze_pdf)\n",
        "analyze_button.pack()\n",
        "\n",
        "# Run GUI\n",
        "window.mainloop()"
      ]
    }
  ]
}