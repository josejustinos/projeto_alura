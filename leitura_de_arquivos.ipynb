{
  "nbformat": 4,
  "nbformat_minor": 0,
  "metadata": {
    "colab": {
      "provenance": [],
      "authorship_tag": "ABX9TyM2vA9TChrII/OBF9BQxkF0",
      "include_colab_link": true
    },
    "kernelspec": {
      "name": "python3",
      "display_name": "Python 3"
    },
    "language_info": {
      "name": "python"
    }
  },
  "cells": [
    {
      "cell_type": "markdown",
      "metadata": {
        "id": "view-in-github",
        "colab_type": "text"
      },
      "source": [
        "<a href=\"https://colab.research.google.com/github/josejustinos/projeto_alura/blob/main/leitura_de_arquivos.ipynb\" target=\"_parent\"><img src=\"https://colab.research.google.com/assets/colab-badge.svg\" alt=\"Open In Colab\"/></a>"
      ]
    },
    {
      "cell_type": "markdown",
      "source": [
        "Aplicativo para acessar um arquivo e pesquisar palavras e retornar o resultado."
      ],
      "metadata": {
        "id": "R3bOe4QZvYsV"
      }
    },
    {
      "cell_type": "code",
      "source": [
        "GOOGLE_API_KEY=\"api_key_alura\"\n",
        "genai.configure(api_key=GOOGLE_API_KEY)"
      ],
      "metadata": {
        "id": "lNLMtVuNu2KI"
      },
      "execution_count": null,
      "outputs": []
    },
    {
      "cell_type": "code",
      "source": [
        "!pip install PyMuPDF"
      ],
      "metadata": {
        "id": "0qHhHo3CwrT6"
      },
      "execution_count": null,
      "outputs": []
    },
    {
      "cell_type": "code",
      "source": [
        "import fitz  # PyMuPDF\n",
        "import re\n",
        "\n",
        "# Função para procurar as informações desejadas\n",
        "def search_info(text, keyword):\n",
        "    # Use expressões regulares para extrair dados\n",
        "    vacancies_pattern = r'Número de vagas disponíveis do concurso:\\s*(\\d+)'\n",
        "    education_level_pattern = r'Grau de escolaridade necessário para concorrer a vaga do concurso público:\\s*([^\\n]+)'\n",
        "    start_date_pattern = r'Data inicial de inscrição para o concurso público:\\s*([^\\n]+)'\n",
        "    end_date_pattern = r'Data final de inscrição para o concurso público:\\s*([^\\n]+)'\n",
        "    fee_pattern = r'Valor da inscrição para o concurso:\\s*([^\\n]+)'\n",
        "    registration_place_pattern = r'Local ou site para realizar a inscrição do concurso:\\s*([^\\n]+)'\n",
        "\n",
        "    data = {}\n",
        "    if keyword.lower() in text.lower():\n",
        "        data['vacancies'] = re.search(vacancies_pattern, text)\n",
        "        data['education_level'] = re.search(education_level_pattern, text)\n",
        "        data['start_date'] = re.search(start_date_pattern, text)\n",
        "        data['end_date'] = re.search(end_date_pattern, text)\n",
        "        data['fee'] = re.search(fee_pattern, text)\n",
        "        data['registration_place'] = re.search(registration_place_pattern, text)\n",
        "    else:\n",
        "        return None\n",
        "\n",
        "    return data\n",
        "\n",
        "# Função para processar o arquivo PDF\n",
        "def process_pdf(file_path):\n",
        "    # Abrir o PDF\n",
        "    document = fitz.open(file_path)\n",
        "\n",
        "    # Coletar o texto de todas as páginas\n",
        "    full_text = \"\"\n",
        "    for page in document:\n",
        "        full_text += page.get_text()\n",
        "\n",
        "    # Fechar o documento\n",
        "    document.close()\n",
        "\n",
        "    return full_text\n",
        "\n",
        "# Função para lidar com a interface do usuário\n",
        "def user_interface():\n",
        "    while True:\n",
        "        print(\"\\n--- Menu ---\")\n",
        "        print(\"1: Fazer upload de um arquivo PDF\")\n",
        "        print(\"2: Encerrar programa\")\n",
        "\n",
        "        choice = input(\"Escolha uma opção: \")\n",
        "        if choice == '1':\n",
        "            # Substitua esse input por uma função/interface de upload real\n",
        "            file_path = input(\"Informe o caminho do arquivo PDF: \")\n",
        "\n",
        "            try:\n",
        "                # Processo o PDF\n",
        "                pdf_text = process_pdf(file_path)\n",
        "                info = search_info(pdf_text, \"inscrição para concurso público abertas\")\n",
        "\n",
        "                if info:\n",
        "                    # Se dados foram encontrados, exiba-os\n",
        "                    print(\"\\nInformações encontradas:\")\n",
        "                    print(\"Número de vagas:\", info['vacancies'].group(1) if info['vacancies'] else \"Não encontrado\")\n",
        "                    print(\"Grau de escolaridade:\", info['education_level'].group(1) if info['education_level'] else \"Não encontrado\")\n",
        "                    print(\"Data inicial de inscrição:\", info['start_date'].group(1) if info['start_date'] else \"Não encontrado\")\n",
        "                    print(\"Data final de inscrição:\", info['end_date'].group(1) if info['end_date'] else \"Não encontrado\")\n",
        "                    print(\"Valor da inscrição:\", info['fee'].group(1) if info['fee'] else \"Não encontrado\")\n",
        "                    print(\"Local ou site para inscrição:\", info['registration_place'].group(1) if info['registration_place'] else \"Não encontrado\")\n",
        "                else:\n",
        "                    # Se nada foi encontrado, avise o usuário\n",
        "                    print(\"\\nNão foram encontrados concursos públicos no documento.\")\n",
        "            except Exception as e:\n",
        "                print(\"Ocorreu um erro ao processar o arquivo PDF: \", e)\n",
        "\n",
        "        elif choice == '2':\n",
        "            print(\"Encerrando programa.\")\n",
        "            break\n",
        "        else:\n",
        "            print(\"Opção inválida. Por favor, escolha uma opção válida.\")\n",
        "\n",
        "# Execução principal do programa\n",
        "if __name__ == \"__main__\":\n",
        "    user_interface()"
      ],
      "metadata": {
        "id": "v_EkfJl8yDGE"
      },
      "execution_count": null,
      "outputs": []
    }
  ]
}