{
  "nbformat": 4,
  "nbformat_minor": 0,
  "metadata": {
    "colab": {
      "provenance": [],
      "toc_visible": true,
      "authorship_tag": "ABX9TyPHMQdBIDv/Nw8faKtJoQ8S",
      "include_colab_link": true
    },
    "kernelspec": {
      "name": "python3",
      "display_name": "Python 3"
    },
    "language_info": {
      "name": "python"
    }
  },
  "cells": [
    {
      "cell_type": "markdown",
      "metadata": {
        "id": "view-in-github",
        "colab_type": "text"
      },
      "source": [
        "<a href=\"https://colab.research.google.com/github/josejustinos/projeto_alura/blob/main/projeto_alura.ipynb\" target=\"_parent\"><img src=\"https://colab.research.google.com/assets/colab-badge.svg\" alt=\"Open In Colab\"/></a>"
      ]
    },
    {
      "cell_type": "code",
      "source": [
        "!pip install geminiclient"
      ],
      "metadata": {
        "id": "NSDD19e5924s",
        "outputId": "3000f01a-4ad5-49a8-dd01-00f4d2e5df87",
        "colab": {
          "base_uri": "https://localhost:8080/"
        }
      },
      "execution_count": 29,
      "outputs": [
        {
          "output_type": "stream",
          "name": "stdout",
          "text": [
            "\u001b[31mERROR: Could not find a version that satisfies the requirement geminiclient (from versions: none)\u001b[0m\u001b[31m\n",
            "\u001b[0m\u001b[31mERROR: No matching distribution found for geminiclient\u001b[0m\u001b[31m\n",
            "\u001b[0m"
          ]
        }
      ]
    },
    {
      "cell_type": "code",
      "execution_count": 28,
      "metadata": {
        "id": "x9TVZipRjt3F",
        "outputId": "7a9e1b6c-39fc-4c3a-e080-fd5168399c62",
        "colab": {
          "base_uri": "https://localhost:8080/",
          "height": 403
        }
      },
      "outputs": [
        {
          "output_type": "error",
          "ename": "ImportError",
          "evalue": "cannot import name 'geminiclient' from 'google.cloud' (unknown location)",
          "traceback": [
            "\u001b[0;31m---------------------------------------------------------------------------\u001b[0m",
            "\u001b[0;31mImportError\u001b[0m                               Traceback (most recent call last)",
            "\u001b[0;32m<ipython-input-28-911de94a0674>\u001b[0m in \u001b[0;36m<cell line: 3>\u001b[0;34m()\u001b[0m\n\u001b[1;32m      1\u001b[0m \u001b[0;32mimport\u001b[0m \u001b[0mtkinter\u001b[0m \u001b[0;32mas\u001b[0m \u001b[0mtk\u001b[0m\u001b[0;34m\u001b[0m\u001b[0;34m\u001b[0m\u001b[0m\n\u001b[1;32m      2\u001b[0m \u001b[0;32mfrom\u001b[0m \u001b[0mtkinter\u001b[0m \u001b[0;32mimport\u001b[0m \u001b[0mfiledialog\u001b[0m\u001b[0;34m\u001b[0m\u001b[0;34m\u001b[0m\u001b[0m\n\u001b[0;32m----> 3\u001b[0;31m \u001b[0;32mfrom\u001b[0m \u001b[0mgoogle\u001b[0m\u001b[0;34m.\u001b[0m\u001b[0mcloud\u001b[0m \u001b[0;32mimport\u001b[0m \u001b[0mgeminiclient\u001b[0m\u001b[0;34m\u001b[0m\u001b[0;34m\u001b[0m\u001b[0m\n\u001b[0m\u001b[1;32m      4\u001b[0m \u001b[0;34m\u001b[0m\u001b[0m\n\u001b[1;32m      5\u001b[0m \u001b[0;31m# Função para extrair informações de concursos públicos\u001b[0m\u001b[0;34m\u001b[0m\u001b[0;34m\u001b[0m\u001b[0m\n",
            "\u001b[0;31mImportError\u001b[0m: cannot import name 'geminiclient' from 'google.cloud' (unknown location)",
            "",
            "\u001b[0;31m---------------------------------------------------------------------------\u001b[0;32m\nNOTE: If your import is failing due to a missing package, you can\nmanually install dependencies using either !pip or !apt.\n\nTo view examples of installing some common dependencies, click the\n\"Open Examples\" button below.\n\u001b[0;31m---------------------------------------------------------------------------\u001b[0m\n"
          ],
          "errorDetails": {
            "actions": [
              {
                "action": "open_url",
                "actionText": "Open Examples",
                "url": "/notebooks/snippets/importing_libraries.ipynb"
              }
            ]
          }
        }
      ],
      "source": [
        "import tkinter as tk\n",
        "from tkinter import filedialog\n",
        "from google.cloud import geminiclient\n",
        "\n",
        "# Função para extrair informações de concursos públicos\n",
        "def extrair_informacoes_concursos(arquivo_pdf):\n",
        "  \"\"\"\n",
        "  Função para extrair informações de concursos públicos em um arquivo PDF usando o Google Gemini.\n",
        "\n",
        "  Argumentos:\n",
        "    arquivo_pdf: Caminho para o arquivo PDF.\n",
        "\n",
        "  Retorno:\n",
        "    Dicionário com as informações extraídas dos concursos públicos, ou None se nenhum concurso for encontrado.\n",
        "  \"\"\"\n",
        "\n",
        "  # Criar cliente do Google Gemini\n",
        "  cliente = geminiclient.Client()\n",
        "\n",
        "  # Carregar o conteúdo do PDF\n",
        "  with open(arquivo_pdf, 'rb') as arquivo:\n",
        "    conteudo_pdf = arquivo.read()\n",
        "\n",
        "  # Analisar o PDF usando o Google Gemini\n",
        "  resposta = cliente.analyze(\n",
        "      document=conteudo_pdf,\n",
        "      language='pt-BR'\n",
        "  )\n",
        "\n",
        "  # Extrair informações de concursos públicos\n",
        "  informacoes_concursos = None\n",
        "  for texto in resposta.text_blocks:\n",
        "    if 'concurso público' in texto.text:\n",
        "      informacoes_concursos = {}\n",
        "      for chave in ['numero_vagas', 'escolaridade', 'data_inicio_inscricao', 'data_fim_inscricao', 'valor_inscricao', 'local_inscricao']:\n",
        "        if chave in texto.text:\n",
        "          informacoes_concursos[chave] = texto.text[texto.text.find(chave) + len(chave) + 1:]\n",
        "\n",
        "  return informacoes_concursos\n",
        "\n",
        "# Função para exibir informações de concursos públicos\n",
        "def exibir_informacoes_concursos(informacoes_concursos):\n",
        "  \"\"\"\n",
        "  Função para exibir as informações de concursos públicos na tela.\n",
        "\n",
        "  Argumentos:\n",
        "    informacoes_concursos: Dicionário com as informações extraídas dos concursos públicos.\n",
        "  \"\"\"\n",
        "\n",
        "  if informacoes_concursos:\n",
        "    for chave, valor in informacoes_concursos.items():\n",
        "      print(f\"{chave}: {valor}\")\n",
        "    print()\n",
        "\n",
        "  # Mostrar opções ao usuário\n",
        "  opcoes = ['Encerrar programa', 'Fazer outro upload']\n",
        "  escolha = tk.messagebox.askchoice('Concursos Públicos', 'Selecione uma opção:', opcoes)\n",
        "\n",
        "  if escolha == 'Encerrar programa':\n",
        "    exit()\n",
        "  else:\n",
        "    selecionar_arquivo_pdf()\n",
        "\n",
        "# Função para selecionar o arquivo PDF\n",
        "def selecionar_arquivo_pdf():\n",
        "  \"\"\"\n",
        "  Função para abrir uma janela de seleção de arquivo e obter o caminho do arquivo PDF selecionado.\n",
        "  \"\"\"\n",
        "\n",
        "  arquivo_pdf = filedialog.askopenfilename(\n",
        "      title='Selecione o arquivo PDF',\n",
        "      filetypes=[('Arquivos PDF', '*.pdf')]\n",
        "  )\n",
        "\n",
        "  if arquivo_pdf:\n",
        "    informacoes_concursos = extrair_informacoes_concursos(arquivo_pdf)\n",
        "    exibir_informacoes_concursos(informacoes_concursos)\n",
        "  else:\n",
        "    print('Nenhum arquivo selecionado.')\n",
        "\n",
        "# Interface gráfica do usuário (opcional)\n",
        "def interface_grafica():\n",
        "  \"\"\"\n",
        "  Função para criar uma interface gráfica do usuário com um botão para selecionar o arquivo PDF.\n",
        "  \"\"\"\n",
        "\n",
        "  # Criar janela principal\n",
        "  janela = tk.Tk()\n",
        "  janela.title('Extrator de Informações de Concursos Públicos')\n",
        "\n",
        "  # Criar botão para selecionar o arquivo PDF\n",
        "  botao_selecionar = tk.Button(janela, text='Selecionar PDF', command=selecionar_arquivo_pdf)\n",
        "  botao_selecionar.pack(pady=20)\n",
        "\n",
        "  # Executar a interface gráfica\n",
        "  janela.mainloop()\n",
        "\n",
        "# Chamada da função principal\n",
        "if __name__ == '__main__':\n",
        "  # Selecionar se deseja usar interface gráfica ou função principal\n",
        "  # interface_grafica()\n",
        "  selecionar_arquivo_pdf()\n"
      ]
    }
  ]
}