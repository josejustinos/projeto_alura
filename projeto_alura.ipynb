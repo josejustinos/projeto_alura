{
  "nbformat": 4,
  "nbformat_minor": 0,
  "metadata": {
    "colab": {
      "provenance": [],
      "authorship_tag": "ABX9TyOHS24+NLz1VGF2b4L8eZe8",
      "include_colab_link": true
    },
    "kernelspec": {
      "name": "python3",
      "display_name": "Python 3"
    },
    "language_info": {
      "name": "python"
    }
  },
  "cells": [
    {
      "cell_type": "markdown",
      "metadata": {
        "id": "view-in-github",
        "colab_type": "text"
      },
      "source": [
        "<a href=\"https://colab.research.google.com/github/josejustinos/projeto_alura/blob/main/projeto_alura.ipynb\" target=\"_parent\"><img src=\"https://colab.research.google.com/assets/colab-badge.svg\" alt=\"Open In Colab\"/></a>"
      ]
    },
    {
      "cell_type": "code",
      "execution_count": 1,
      "metadata": {
        "id": "x9TVZipRjt3F",
        "outputId": "db2d149b-dec3-4ce9-94c5-8b995643e5fd",
        "colab": {
          "base_uri": "https://localhost:8080/",
          "height": 383
        }
      },
      "outputs": [
        {
          "output_type": "error",
          "ename": "ModuleNotFoundError",
          "evalue": "No module named 'fitz'",
          "traceback": [
            "\u001b[0;31m---------------------------------------------------------------------------\u001b[0m",
            "\u001b[0;31mModuleNotFoundError\u001b[0m                       Traceback (most recent call last)",
            "\u001b[0;32m<ipython-input-1-4d518728f518>\u001b[0m in \u001b[0;36m<cell line: 1>\u001b[0;34m()\u001b[0m\n\u001b[0;32m----> 1\u001b[0;31m \u001b[0;32mimport\u001b[0m \u001b[0mfitz\u001b[0m  \u001b[0;31m# PyMuPDF\u001b[0m\u001b[0;34m\u001b[0m\u001b[0;34m\u001b[0m\u001b[0m\n\u001b[0m\u001b[1;32m      2\u001b[0m \u001b[0;34m\u001b[0m\u001b[0m\n\u001b[1;32m      3\u001b[0m \u001b[0;32mdef\u001b[0m \u001b[0mextrair_texto_pdf\u001b[0m\u001b[0;34m(\u001b[0m\u001b[0mcaminho_arquivo\u001b[0m\u001b[0;34m)\u001b[0m\u001b[0;34m:\u001b[0m\u001b[0;34m\u001b[0m\u001b[0;34m\u001b[0m\u001b[0m\n\u001b[1;32m      4\u001b[0m     \u001b[0mtexto\u001b[0m \u001b[0;34m=\u001b[0m \u001b[0;34m''\u001b[0m\u001b[0;34m\u001b[0m\u001b[0;34m\u001b[0m\u001b[0m\n\u001b[1;32m      5\u001b[0m     \u001b[0;32mwith\u001b[0m \u001b[0mfitz\u001b[0m\u001b[0;34m.\u001b[0m\u001b[0mopen\u001b[0m\u001b[0;34m(\u001b[0m\u001b[0mcaminho_arquivo\u001b[0m\u001b[0;34m)\u001b[0m \u001b[0;32mas\u001b[0m \u001b[0mpdf\u001b[0m\u001b[0;34m:\u001b[0m\u001b[0;34m\u001b[0m\u001b[0;34m\u001b[0m\u001b[0m\n",
            "\u001b[0;31mModuleNotFoundError\u001b[0m: No module named 'fitz'",
            "",
            "\u001b[0;31m---------------------------------------------------------------------------\u001b[0;32m\nNOTE: If your import is failing due to a missing package, you can\nmanually install dependencies using either !pip or !apt.\n\nTo view examples of installing some common dependencies, click the\n\"Open Examples\" button below.\n\u001b[0;31m---------------------------------------------------------------------------\u001b[0m\n"
          ],
          "errorDetails": {
            "actions": [
              {
                "action": "open_url",
                "actionText": "Open Examples",
                "url": "/notebooks/snippets/importing_libraries.ipynb"
              }
            ]
          }
        }
      ],
      "source": [
        "import fitz  # PyMuPDF\n",
        "\n",
        "def extrair_texto_pdf(caminho_arquivo):\n",
        "    texto = ''\n",
        "    with fitz.open(caminho_arquivo) as pdf:\n",
        "        for pagina in pdf:\n",
        "            texto += pagina.get_text()\n",
        "    return texto\n",
        "\n",
        "def encontrar_informacoes_concurso(texto):\n",
        "    frases_de_busca = [\n",
        "        \"inscrição para concurso público\",\n",
        "        \"vagas para concurso público\"\n",
        "    ]\n",
        "\n",
        "    if any(frase in texto for frase in frases_de_busca):\n",
        "        # Implemente a lógica para encontrar e extrair informações sobre o concurso\n",
        "        # Baseie-se na formatação específica do seu PDF, abaixo é um exemplo genérico\n",
        "        # de como você pode começar a procurar por essas informações:\n",
        "        vagas = re.findall(\"vagas disponíveis: (\\d+)\", texto, re.IGNORECASE)\n",
        "        escolaridade = re.findall(\"grau de escolaridade: (.+?)\\n\", texto, re.IGNORECASE)\n",
        "        datas_inscricao = re.findall(\"inscrições: (\\d{2}/\\d{2}/\\d{4}) a (\\d{2}/\\d{2}/\\d{4})\", texto, re.IGNORECASE)\n",
        "        valor_inscricao = re.findall(\"valor da inscrição: (R\\$[\\d\\.,]+)\", texto, re.IGNORECASE)\n",
        "        local_inscricao = re.findall(\"inscreva-se em: (.+?)\\n\", texto, re.IGNORECASE)\n",
        "\n",
        "        return {\n",
        "            \"vagas\": vagas,\n",
        "            \"escolaridade\": escolaridade,\n",
        "            \"datas_inscricao\": datas_inscricao,\n",
        "            \"valor_inscricao\": valor_inscricao,\n",
        "            \"local_inscricao\": local_inscricao\n",
        "        }\n",
        "    else:\n",
        "        return None\n",
        "\n",
        "def exibir_e_processar_informacoes(informacoes):\n",
        "    if informacoes:\n",
        "        print(\"Informações encontradas:\")\n",
        "        for chave, valor in informacoes.items():\n",
        "            print(f\"{chave.capitalize()}: {valor}\")\n",
        "    else:\n",
        "        print(\"Não foram encontradas vagas de concurso público no documento.\")\n",
        "\n",
        "def main():\n",
        "    while True:\n",
        "        caminho_pdf = input(\"Por favor, insira o caminho do arquivo PDF: \")\n",
        "        texto_pdf = extrair_texto_pdf(caminho_pdf)\n",
        "        informacoes = encontrar_informacoes_concurso(texto_pdf)\n",
        "        exibir_e_processar_informacoes(informacoes)\n",
        "\n",
        "        escolha = input(\"Deseja analisar outro arquivo? Digite 's' para sim ou qualquer tecla para sair: \")\n",
        "        if escolha.lower() != 's':\n",
        "            break\n",
        "\n",
        "if __name__ == \"__main__\":\n",
        "    main()"
      ]
    }
  ]
}