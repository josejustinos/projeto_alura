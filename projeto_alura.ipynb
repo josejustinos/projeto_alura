{
  "nbformat": 4,
  "nbformat_minor": 0,
  "metadata": {
    "colab": {
      "provenance": [],
      "toc_visible": true,
      "authorship_tag": "ABX9TyNp8Hqgf377vu1gHvUh9gDa",
      "include_colab_link": true
    },
    "kernelspec": {
      "name": "python3",
      "display_name": "Python 3"
    },
    "language_info": {
      "name": "python"
    }
  },
  "cells": [
    {
      "cell_type": "markdown",
      "metadata": {
        "id": "view-in-github",
        "colab_type": "text"
      },
      "source": [
        "<a href=\"https://colab.research.google.com/github/josejustinos/projeto_alura/blob/main/projeto_alura.ipynb\" target=\"_parent\"><img src=\"https://colab.research.google.com/assets/colab-badge.svg\" alt=\"Open In Colab\"/></a>"
      ]
    },
    {
      "cell_type": "code",
      "execution_count": 68,
      "metadata": {
        "id": "x9TVZipRjt3F",
        "colab": {
          "base_uri": "https://localhost:8080/",
          "height": 351
        },
        "outputId": "5606a7c7-d303-4f2f-ad6d-111596cf5043"
      },
      "outputs": [
        {
          "output_type": "error",
          "ename": "TclError",
          "evalue": "no display name and no $DISPLAY environment variable",
          "traceback": [
            "\u001b[0;31m---------------------------------------------------------------------------\u001b[0m",
            "\u001b[0;31mTclError\u001b[0m                                  Traceback (most recent call last)",
            "\u001b[0;32m<ipython-input-68-660ba941385c>\u001b[0m in \u001b[0;36m<cell line: 68>\u001b[0;34m()\u001b[0m\n\u001b[1;32m     66\u001b[0m \u001b[0;34m\u001b[0m\u001b[0m\n\u001b[1;32m     67\u001b[0m \u001b[0;31m# Criação da interface gráfica\u001b[0m\u001b[0;34m\u001b[0m\u001b[0;34m\u001b[0m\u001b[0m\n\u001b[0;32m---> 68\u001b[0;31m \u001b[0mroot\u001b[0m \u001b[0;34m=\u001b[0m \u001b[0mtk\u001b[0m\u001b[0;34m.\u001b[0m\u001b[0mTk\u001b[0m\u001b[0;34m(\u001b[0m\u001b[0;34m)\u001b[0m\u001b[0;34m\u001b[0m\u001b[0;34m\u001b[0m\u001b[0m\n\u001b[0m\u001b[1;32m     69\u001b[0m \u001b[0mroot\u001b[0m\u001b[0;34m.\u001b[0m\u001b[0mwithdraw\u001b[0m\u001b[0;34m(\u001b[0m\u001b[0;34m)\u001b[0m  \u001b[0;31m# Esconder a janela principal\u001b[0m\u001b[0;34m\u001b[0m\u001b[0;34m\u001b[0m\u001b[0m\n\u001b[1;32m     70\u001b[0m \u001b[0;34m\u001b[0m\u001b[0m\n",
            "\u001b[0;32m/usr/lib/python3.10/tkinter/__init__.py\u001b[0m in \u001b[0;36m__init__\u001b[0;34m(self, screenName, baseName, className, useTk, sync, use)\u001b[0m\n\u001b[1;32m   2297\u001b[0m                 \u001b[0mbaseName\u001b[0m \u001b[0;34m=\u001b[0m \u001b[0mbaseName\u001b[0m \u001b[0;34m+\u001b[0m \u001b[0mext\u001b[0m\u001b[0;34m\u001b[0m\u001b[0;34m\u001b[0m\u001b[0m\n\u001b[1;32m   2298\u001b[0m         \u001b[0minteractive\u001b[0m \u001b[0;34m=\u001b[0m \u001b[0;32mFalse\u001b[0m\u001b[0;34m\u001b[0m\u001b[0;34m\u001b[0m\u001b[0m\n\u001b[0;32m-> 2299\u001b[0;31m         \u001b[0mself\u001b[0m\u001b[0;34m.\u001b[0m\u001b[0mtk\u001b[0m \u001b[0;34m=\u001b[0m \u001b[0m_tkinter\u001b[0m\u001b[0;34m.\u001b[0m\u001b[0mcreate\u001b[0m\u001b[0;34m(\u001b[0m\u001b[0mscreenName\u001b[0m\u001b[0;34m,\u001b[0m \u001b[0mbaseName\u001b[0m\u001b[0;34m,\u001b[0m \u001b[0mclassName\u001b[0m\u001b[0;34m,\u001b[0m \u001b[0minteractive\u001b[0m\u001b[0;34m,\u001b[0m \u001b[0mwantobjects\u001b[0m\u001b[0;34m,\u001b[0m \u001b[0museTk\u001b[0m\u001b[0;34m,\u001b[0m \u001b[0msync\u001b[0m\u001b[0;34m,\u001b[0m \u001b[0muse\u001b[0m\u001b[0;34m)\u001b[0m\u001b[0;34m\u001b[0m\u001b[0;34m\u001b[0m\u001b[0m\n\u001b[0m\u001b[1;32m   2300\u001b[0m         \u001b[0;32mif\u001b[0m \u001b[0museTk\u001b[0m\u001b[0;34m:\u001b[0m\u001b[0;34m\u001b[0m\u001b[0;34m\u001b[0m\u001b[0m\n\u001b[1;32m   2301\u001b[0m             \u001b[0mself\u001b[0m\u001b[0;34m.\u001b[0m\u001b[0m_loadtk\u001b[0m\u001b[0;34m(\u001b[0m\u001b[0;34m)\u001b[0m\u001b[0;34m\u001b[0m\u001b[0;34m\u001b[0m\u001b[0m\n",
            "\u001b[0;31mTclError\u001b[0m: no display name and no $DISPLAY environment variable"
          ]
        }
      ],
      "source": [
        "import tkinter as tk\n",
        "from tkinter import filedialog, messagebox\n",
        "import fitz  # PyMuPDF\n",
        "import re\n",
        "import requests\n",
        "\n",
        "# Definir suas chaves API e endpoint de acordo\n",
        "API_KEY = 'SUA_GOOGLE_API_KEY'\n",
        "ENDPOINT_URL = 'https://gemini.caminho_para_api'\n",
        "\n",
        "# Função para analisar o texto do PDF com o Google Gemini\n",
        "def analisa_pdf_conteudo(texto):\n",
        "    # Solicitação à API do Google\n",
        "    headers = {'Authorization': 'Bearer ' + API_KEY}\n",
        "    payload = { 'texto': texto }\n",
        "    response = requests.post(ENDPOINT_URL, headers=headers, json=payload)\n",
        "    # Analisa a resposta e retorna resultados\n",
        "    # Esta etapa é um placeholder, você precisa substituir com a chamada real\n",
        "    return response.json()\n",
        "\n",
        "# Função para extrair informação com base em um padrão regex\n",
        "def extrai_informacao(regex, texto):\n",
        "    match = re.search(regex, texto, re.IGNORECASE)\n",
        "    return match.group(0) if match else \"Informação não encontrada\"\n",
        "\n",
        "# Função para buscar as informações desejadas no texto\n",
        "def buscar_informacoes(texto):\n",
        "    padroes = {\n",
        "        'numero_vagas': r'\\b(\\d+)\\s+vagas\\b',\n",
        "        'grau_escolaridade': r'(Ensino Médio|Ensino Superior|Graduação|Pós-graduação|Doutorado|Mestrado)',\n",
        "        'data_inicial': r'\\b(\\d{2}/\\d{2}/\\d{4})\\b',\n",
        "        'data_final': r'\\b(\\d{2}/\\d{2}/\\d{4})\\b',\n",
        "        'valor_inscricao': r'R\\$\\s?[0-9]+(?:,[0-9]{2})?',\n",
        "        'local_inscricao': r'(https?://[^\\s]+)'\n",
        "    }\n",
        "    resultados = { chave: extrai_informacao(regex, texto) for chave, regex in padroes.items() }\n",
        "    return resultados\n",
        "\n",
        "# Função para carregar um arquivo PDF\n",
        "def carregar_pdf():\n",
        "    caminho_arquivo = filedialog.askopenfilename(filetypes=[(\"PDF files\", \"*.pdf\")])\n",
        "    if caminho_arquivo:  # Verifica se um arquivo foi selecionado\n",
        "        with fitz.open(caminho_arquivo) as pdf:\n",
        "            texto = \"\"\n",
        "            for pagina in pdf:\n",
        "                texto += pagina.get_text()\n",
        "            # Google Gemini não é acessível, assim estamos simulando a busca por palavras\n",
        "            if \"inscrição para concurso público\" in texto or \"vagas para concurso público\" in texto:\n",
        "                informacoes = buscar_informacoes(texto)\n",
        "                for chave, valor in informacoes.items():\n",
        "                    print(f\"{chave}: {valor}\")\n",
        "                opcao_usuario()\n",
        "            else:\n",
        "                print(\"Não foram encontrados concursos públicos nesse documento PDF.\")\n",
        "                opcao_usuario()\n",
        "    else:\n",
        "        print(\"Nenhum arquivo foi selecionado.\")\n",
        "\n",
        "# Função para exibir as opções ao usuário após a análise\n",
        "def opcao_usuario():\n",
        "    resposta = messagebox.askyesno(\"PDF Analisado\", \"Deseja analisar outro arquivo PDF?\")\n",
        "    if resposta:\n",
        "        carregar_pdf()\n",
        "    else:\n",
        "        root.destroy()\n",
        "\n",
        "# Criação da interface gráfica\n",
        "root = tk.Tk()\n",
        "root.withdraw()  # Esconder a janela principal\n",
        "\n",
        "carregar_pdf()  # Iniciar escolhendo um arquivo PDF"
      ]
    }
  ]
}