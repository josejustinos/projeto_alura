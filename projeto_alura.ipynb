{
  "nbformat": 4,
  "nbformat_minor": 0,
  "metadata": {
    "colab": {
      "provenance": [],
      "authorship_tag": "ABX9TyNRZ6BAzsnHlkGn0mZ9S5BZ",
      "include_colab_link": true
    },
    "kernelspec": {
      "name": "python3",
      "display_name": "Python 3"
    },
    "language_info": {
      "name": "python"
    }
  },
  "cells": [
    {
      "cell_type": "markdown",
      "metadata": {
        "id": "view-in-github",
        "colab_type": "text"
      },
      "source": [
        "<a href=\"https://colab.research.google.com/github/josejustinos/projeto_alura/blob/main/projeto_alura.ipynb\" target=\"_parent\"><img src=\"https://colab.research.google.com/assets/colab-badge.svg\" alt=\"Open In Colab\"/></a>"
      ]
    },
    {
      "cell_type": "code",
      "source": [
        "!pip install PdfReader"
      ],
      "metadata": {
        "id": "NSDD19e5924s"
      },
      "execution_count": null,
      "outputs": []
    },
    {
      "cell_type": "code",
      "execution_count": null,
      "metadata": {
        "id": "x9TVZipRjt3F"
      },
      "outputs": [],
      "source": [
        "import os\n",
        "import requests\n",
        "from PyPDF2 import PdfReader\n",
        "\n",
        "# Bloco de funções auxiliares\n",
        "def carregar_arquivo():\n",
        "    # Solicita ao usuário para inserir o caminho do arquivo PDF\n",
        "    caminho_arquivo = input('Por favor, insira o caminho do arquivo PDF: ')\n",
        "    return caminho_arquivo\n",
        "\n",
        "def analisar_conteudo(conteudo, gemini_api_key):\n",
        "    # Configurar o endpoint do Google Gemini e a chave da API\n",
        "    endpoint = \"https://vision.googleapis.com/v1/files:asyncBatchAnnotate\"\n",
        "    headers = {\n",
        "        \"Content-Type\": \"application/json\",\n",
        "        \"Authorization\": f\"Bearer {gemini_api_key}\"\n",
        "    }\n",
        "\n",
        "    # Corpo da requisição com o conteúdo do PDF em base64\n",
        "    payload = {\n",
        "        \"requests\": [\n",
        "            {\n",
        "                \"inputConfig\": {\n",
        "                    \"content\": conteudo,\n",
        "                    \"mime_type\": \"application/pdf\"\n",
        "                },\n",
        "                \"features\": [{\"type\": \"DOCUMENT_TEXT_DETECTION\"}]\n",
        "            }\n",
        "        ]\n",
        "    }\n",
        "\n",
        "    # Fazer a requisição ao Gemini para análise do arquivo\n",
        "    response = requests.post(endpoint, headers=headers, json=payload)\n",
        "    response.raise_for_status()  # Levanta um erro se a requisição falhou\n",
        "    return response.json()\n",
        "\n",
        "def buscar_informacoes(texto):\n",
        "    # Buscar pelas informações desejadas de concurso público no texto extraído\n",
        "    informacoes = {}\n",
        "\n",
        "    if \"inscrição para concurso público\" in texto or \"vagas para concurso público\" in texto:\n",
        "        informacoes['vagas'] = buscar_trecho(texto, \"Vagas disponíveis:\")\n",
        "        informacoes['escolaridade'] = buscar_trecho(texto, \"Escolaridade exigida:\")\n",
        "        informacoes['data_inicial'] = buscar_trecho(texto, \"Data inicial para inscrição:\")\n",
        "        informacoes['data_final'] = buscar_trecho(texto, \"Data final para inscrição:\")\n",
        "        informacoes['valor_inscricao'] = buscar_trecho(texto, \"Valor da inscrição:\")\n",
        "        informacoes['local_inscricao'] = buscar_trecho(texto, \"Local para inscrição:\")\n",
        "    return informacoes\n",
        "\n",
        "def buscar_trecho(texto, chave):\n",
        "    # Função para buscar um trecho no texto com base na chave fornecida\n",
        "    inicio = texto.find(chave)\n",
        "    if inicio == -1:  # Se a chave não for encontrada, retornar que não foi encontrada\n",
        "        return f\"{chave} não encontrada.\"\n",
        "    else:\n",
        "        inicio += len(chave)\n",
        "        fim = texto.find('\\n', inicio)  # Assumindo que cada informação está em uma linha separada\n",
        "        return texto[inicio:fim].strip() if fim != -1 else texto[inicio:].strip()\n",
        "\n",
        "def imprimir_informacoes(informacoes):\n",
        "    # Imprime as informações encontradas, uma por linha\n",
        "    for chave, valor in informacoes.items():\n",
        "        print(f\"{chave}: {valor}\")\n",
        "\n",
        "def loop_principal():\n",
        "    gemini_api_key = 'SUA_API_KEY'\n",
        "\n",
        "    while True:\n",
        "        # Solicitar ao usuário para carregar o arquivo PDF\n",
        "        arquivo = carregar_arquivo()\n",
        "\n",
        "        # Verificar se o arquivo existe\n",
        "        if not os.path.exists(arquivo):\n",
        "            print('Arquivo não encontrado. Tente novamente.')\n",
        "            continue\n",
        "\n",
        "        # Lendo o conteúdo do PDF\n",
        "        with open(arquivo, \"rb\") as file:\n",
        "            reader = PdfReader(file)\n",
        "            num_pages = len(reader.pages)\n",
        "            texto = ''\n",
        "            for page in reader.pages:\n",
        "                texto += page.extract_text() + \"\\n\"\n",
        "\n",
        "        # Faz a chamada para o Google Gemini enviando o conteúdo do PDF\n",
        "        resultado_analise = analisar_conteudo(texto, gemini_api_key)\n",
        "\n",
        "        # Busca as informações necessárias no texto retornado pelo Google Gemini\n",
        "        informacoes = buscar_informacoes(texto)\n",
        "\n",
        "        # Se informações foram encontradas, imprimir, senão informar ao usuário\n",
        "        if informacoes:\n",
        "            imprimir_informacoes(informacoes)\n",
        "        else:\n",
        "            print(\"Não foram encontradas vagas de concurso público no arquivo PDF.\")\n",
        "\n",
        "        # Perguntar ao usuário se quer carregar outro arquivo ou encerrar o programa\n",
        "        escolha = input('Deseja carregar outro arquivo? (s/n): ')\n",
        "        if escolha.lower() != 's':\n",
        "            break\n",
        "\n",
        "# Executando o loop principal\n",
        "if __name__ == \"__main__\":\n",
        "    loop_principal()"
      ]
    }
  ]
}